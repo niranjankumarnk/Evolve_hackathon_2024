{
 "cells": [
  {
   "cell_type": "code",
   "execution_count": null,
   "id": "e56c2804-c54b-4d0d-b7a1-326061503997",
   "metadata": {},
   "outputs": [],
   "source": [
    "import pandas as pd\n",
    "import numpy as np\n",
    "import zipfile\n",
    "import os\n",
    "import opendatasets as od\n"
   ]
  },
  {
   "cell_type": "code",
   "execution_count": null,
   "id": "211416c4-03b3-4ae8-b716-66734282f60d",
   "metadata": {},
   "outputs": [],
   "source": [
    "od.download( \n",
    "    \"https://www.kaggle.com/datasets/entenam/reddit-mental-health-dataset\") "
   ]
  },
  {
   "cell_type": "code",
   "execution_count": null,
   "id": "1716bb6a-cbfa-4a16-bb22-0bb0fae63e7c",
   "metadata": {},
   "outputs": [],
   "source": [
    "import os\n",
    "\n",
    "cwd = os.getcwd()  # Get the current working directory (cwd)\n",
    "files = os.listdir(cwd)  # Get all the files in that directory\n",
    "print(\"Files in %r: %s\" % (cwd, files))"
   ]
  },
  {
   "cell_type": "code",
   "execution_count": null,
   "id": "b05bcb04-bcf0-4e82-93fe-92e78e26dcec",
   "metadata": {},
   "outputs": [],
   "source": [
    "os.getcwd()\n"
   ]
  },
  {
   "cell_type": "markdown",
   "id": "5425927e-283e-4eda-a150-269976f79a6f",
   "metadata": {},
   "source": [
    "This dataset, which includes a subset of 800 manually annotated posts, is structured differently to provide focused insights into the mental health discussions. The columns in Part B are as follows:\n",
    "Score: The net score (upvotes minus downvotes) of the post.\n",
    "Selftext:The main text content of the post.\n",
    "Subreddit: The subreddit from which the post was sourced.\n",
    "Title: The title of the Reddit post.\n",
    "Label: The assigned label indicating the identified root cause of mental health\n",
    "issues, based on our annotation process are : Drug and Alcohol , Early Life, Personality,Trauma and Stress\n",
    "\n",
    "This annotation process brings additional depth to the dataset, allowing researchers to explore the underlying factors contributing to mental health issues."
   ]
  },
  {
   "cell_type": "code",
   "execution_count": null,
   "id": "76a205c5-404e-480c-a8e2-3d81b4b1536f",
   "metadata": {},
   "outputs": [],
   "source": [
    "with zipfile.ZipFile(\"dataset/archive.zip\", 'r') as zip_ref:\n",
    "    zip_ref.extractall(\"mental_health_data\")"
   ]
  },
  {
   "cell_type": "code",
   "execution_count": null,
   "id": "f892d150-0f5c-4bc7-88d1-a5bc55ae89be",
   "metadata": {},
   "outputs": [],
   "source": [
    "df_1 = pd.read_csv(\"mental_health_data/Original Reddit Data/Labelled Data/LD DA 1.csv\")\n",
    "df_1.head()"
   ]
  },
  {
   "cell_type": "code",
   "execution_count": null,
   "id": "23b4e3ba-1dc0-48b8-969c-c15a5a60635a",
   "metadata": {},
   "outputs": [],
   "source": [
    "df_1.shape"
   ]
  },
  {
   "cell_type": "code",
   "execution_count": null,
   "id": "6be5e778-faaf-4124-98f7-dab2e92a1db7",
   "metadata": {},
   "outputs": [],
   "source": [
    "df = pd.concat( \n",
    "    map(pd.read_csv, ['mental_health_data/Original Reddit Data/Labelled Data/LD DA 1.csv', 'mental_health_data/Original Reddit Data/Labelled Data/LD EL1.csv', 'mental_health_data/Original Reddit Data/Labelled Data/LD PF1.csv', 'mental_health_data/Original Reddit Data/Labelled Data/LD TS 1.csv']), ignore_index=True) \n",
    "df.head() "
   ]
  },
  {
   "cell_type": "code",
   "execution_count": null,
   "id": "aa2328c1-7728-4068-a1b2-0fee65188ddf",
   "metadata": {},
   "outputs": [],
   "source": [
    "df.drop_duplicates()"
   ]
  },
  {
   "cell_type": "code",
   "execution_count": null,
   "id": "eb9e8bb9-472f-46d3-a9bc-67a098f2752c",
   "metadata": {},
   "outputs": [],
   "source": [
    "df.isnull().sum()"
   ]
  },
  {
   "cell_type": "code",
   "execution_count": null,
   "id": "a9eedb46-aea7-493a-a312-d2f9bacf0705",
   "metadata": {},
   "outputs": [],
   "source": [
    "df = df.drop(['score','CAT 1'],axis = 1)"
   ]
  },
  {
   "cell_type": "code",
   "execution_count": null,
   "id": "cd76f306-794c-403d-89cc-ff5f4a8742f8",
   "metadata": {},
   "outputs": [],
   "source": [
    "df"
   ]
  },
  {
   "cell_type": "code",
   "execution_count": null,
   "id": "58eed07a-32a9-4920-8a9f-7eee2b6267ee",
   "metadata": {},
   "outputs": [],
   "source": [
    "df = df.dropna()"
   ]
  },
  {
   "cell_type": "code",
   "execution_count": null,
   "id": "4a654774-bb58-4d7b-9db8-fd556c36c2c3",
   "metadata": {},
   "outputs": [],
   "source": [
    "df.to_csv(\"combined_data.csv\",index = False)"
   ]
  },
  {
   "cell_type": "code",
   "execution_count": null,
   "id": "66623b7c-9564-493e-a712-632673b14e97",
   "metadata": {},
   "outputs": [],
   "source": [
    "from langchain_community.document_loaders.csv_loader import CSVLoader\n",
    "loader = CSVLoader(file_path=\"combined_data.csv\")\n",
    "\n",
    "health_data = loader.load()"
   ]
  },
  {
   "cell_type": "code",
   "execution_count": null,
   "id": "418c1bdf-ac12-473f-a90a-e39ae71659d5",
   "metadata": {},
   "outputs": [],
   "source": [
    "print(health_data[0])"
   ]
  },
  {
   "cell_type": "code",
   "execution_count": null,
   "id": "7ce05d67-2404-41a5-a6d5-230e1b17284f",
   "metadata": {},
   "outputs": [],
   "source": [
    "loader = CSVLoader(\n",
    "    file_path=\"combined_data.csv\",\n",
    "    csv_args={\n",
    "        \"delimiter\": \",\",\n",
    "        \"quotechar\": '\"',\n",
    "        \"fieldnames\": [\"selftext\", \"subreddit\", \"title\",\"Label\"],\n",
    "    },\n",
    ")\n",
    "\n",
    "mental_health_data = loader.load()"
   ]
  },
  {
   "cell_type": "code",
   "execution_count": null,
   "id": "688a13cd-c4b9-48d3-a061-e94a4f962730",
   "metadata": {},
   "outputs": [],
   "source": [
    "print(mental_health_data[1:5])"
   ]
  },
  {
   "cell_type": "code",
   "execution_count": null,
   "id": "e5c6efa8-d412-4637-86c7-4da0efd7e65e",
   "metadata": {},
   "outputs": [],
   "source": [
    "# Chunk the data"
   ]
  },
  {
   "cell_type": "code",
   "execution_count": null,
   "id": "7fa83043-7b03-4ceb-8e05-8d3dc0afc701",
   "metadata": {},
   "outputs": [],
   "source": [
    "from langchain_text_splitters import RecursiveCharacterTextSplitter\n",
    "from langchain.schema import Document\n",
    "text_splitter = RecursiveCharacterTextSplitter(chunk_size=1000, chunk_overlap=200)\n",
    "\n",
    "# Split the documents into smaller chunks\n",
    "chunks = []\n",
    "for doc in mental_health_data:\n",
    "    chunked_texts = text_splitter.split_text(doc.page_content)\n",
    "    for chunk_text in chunked_texts:\n",
    "        chunks.append(Document(page_content=chunk_text))"
   ]
  },
  {
   "cell_type": "code",
   "execution_count": null,
   "id": "91766317-45e1-4c6c-94bf-4539673738b2",
   "metadata": {},
   "outputs": [],
   "source": [
    "\n",
    "chunks[0:5]"
   ]
  },
  {
   "cell_type": "code",
   "execution_count": null,
   "id": "2c202b51-7d54-43c4-b1b7-94f5b1d78cd8",
   "metadata": {},
   "outputs": [],
   "source": [
    "# Tokinize the data"
   ]
  },
  {
   "cell_type": "code",
   "execution_count": null,
   "id": "8d857a7c-33a3-48af-a4a6-d88449aeaba6",
   "metadata": {},
   "outputs": [],
   "source": [
    "from langchain.embeddings import HuggingFaceEmbeddings\n",
    "from langchain_community.vectorstores import FAISS\n",
    "from sentence_transformers import SentenceTransformer\n",
    "from langchain.schema import Document\n",
    "\n",
    "# Step 1: Initialize the Hugging Face embeddings wrapper for SentenceTransformer\n",
    "model = HuggingFaceEmbeddings(model_name=\"sentence-transformers/all-MiniLM-L6-v2\")\n",
    "\n",
    "# Step 2: Convert the text chunks into LangChain Documents (assuming chunks are already defined)\n",
    "texts = [doc.page_content for doc in chunks]\n",
    "documents = [Document(page_content=text) for text in texts]\n",
    "\n",
    "# Step 3: Create the FAISS vector store using the Hugging Face embedding model\n",
    "db = FAISS.from_texts(texts, model)\n",
    "\n",
    "# Step 4: Confirm that FAISS has stored the embeddings\n",
    "print(f\"Number of vectors in the FAISS index: {db.index.ntotal}\")\n",
    "\n",
    "# # Step 5: Perform a similarity search using FAISS\n",
    "# query = \"What causes depression?\"\n",
    "# similar_docs = db.similarity_search(query)\n",
    "\n",
    "# # Step 6: Print the retrieved documents\n",
    "# for doc in similar_docs:\n",
    "#     print(doc.page_content)\n",
    "\n"
   ]
  },
  {
   "cell_type": "code",
   "execution_count": null,
   "id": "34121ec4-3737-44b6-9ed7-e6221027b530",
   "metadata": {},
   "outputs": [],
   "source": [
    "retriever = db.as_retriever()\n",
    "retriever"
   ]
  },
  {
   "cell_type": "code",
   "execution_count": null,
   "id": "4bc1fab6-6835-42d5-811f-058d50e8e72c",
   "metadata": {},
   "outputs": [],
   "source": [
    "# Wikipedia\n",
    "from langchain_community.tools import WikipediaQueryRun\n",
    "from langchain_community.utilities import WikipediaAPIWrapper\n",
    "from langchain_core.pydantic_v1 import BaseModel, Field\n",
    "\n",
    "\n",
    "class WikiInputs(BaseModel):\n",
    "    \"\"\"Inputs to the wikipedia tool.\"\"\"\n",
    "\n",
    "    query: str = Field(\n",
    "        description=\"query to look up in Wikipedia, should be 3 or less words\"\n",
    "    )\n",
    "api_wrapper = WikipediaAPIWrapper(top_k_results=1, doc_content_chars_max=500)\n",
    "wiki_tool = WikipediaQueryRun(\n",
    "    name=\"wiki-tool\",\n",
    "    description=\"look up things in wikipedia\",\n",
    "    args_schema=WikiInputs,\n",
    "    api_wrapper=api_wrapper,\n",
    "    return_direct=True,\n",
    ")"
   ]
  },
  {
   "cell_type": "code",
   "execution_count": null,
   "id": "5a2d8d9c-8fee-492f-ad77-9b0633bda90d",
   "metadata": {},
   "outputs": [],
   "source": [
    "wiki_tool.run(\"langchain\")"
   ]
  },
  {
   "cell_type": "code",
   "execution_count": null,
   "id": "8702149a-92db-47cf-b013-9dff4bb242b6",
   "metadata": {},
   "outputs": [],
   "source": [
    "#youtube\n",
    "from langchain_community.tools import YouTubeSearchTool\n",
    "\n",
    "youtube_tool = YouTubeSearchTool()\n",
    "youtube_tool.run(\"depression exercise\")"
   ]
  },
  {
   "cell_type": "code",
   "execution_count": null,
   "id": "e296028e-d9c3-418a-b398-a6c1821a21f9",
   "metadata": {},
   "outputs": [],
   "source": [
    "# pubmed\n",
    "from langchain_community.tools.pubmed.tool import PubmedQueryRun\n",
    "pubmed_tool = PubmedQueryRun()\n",
    "pubmed_tool.invoke(\"What causes depression\")\n",
    "\n"
   ]
  },
  {
   "cell_type": "code",
   "execution_count": null,
   "id": "e156387d-37bf-40d8-9486-273a97142182",
   "metadata": {},
   "outputs": [],
   "source": [
    "# Google scholar\n",
    "from langchain_community.tools.google_scholar import GoogleScholarQueryRun\n",
    "from langchain_community.utilities.google_scholar import GoogleScholarAPIWrapper\n",
    "os.environ[\"SERP_API_KEY\"] = \"f39f64a7fef852a21486840761f31b9288a3f24c4e0689c40c16bff722daf5fb\"\n",
    "goo_sch_tool = GoogleScholarQueryRun(api_wrapper=GoogleScholarAPIWrapper())\n",
    "goo_sch_tool.run(\"Depression causes\")\n",
    "\n"
   ]
  },
  {
   "cell_type": "code",
   "execution_count": null,
   "id": "021cf6b7-9884-48d4-be17-f887215484e6",
   "metadata": {},
   "outputs": [],
   "source": [
    "# Arxiv\n",
    "from langchain_community.utilities import ArxivAPIWrapper\n",
    "arxiv_tool = ArxivAPIWrapper()\n",
    "\n",
    "docs = arxiv.run(\"1605.08386\")\n",
    "docs"
   ]
  },
  {
   "cell_type": "code",
   "execution_count": 76,
   "id": "1c19a0e3-cffc-498d-9b79-d81fbebc62d7",
   "metadata": {},
   "outputs": [
    {
     "data": {
      "text/plain": [
       "Tool(name=' Mental Health', description='Search for the information about mental health from custom dataset', args_schema=<class 'langchain_core.tools.RetrieverInput'>, func=functools.partial(<function _get_relevant_documents at 0x7f13d4564820>, retriever=VectorStoreRetriever(tags=['FAISS', 'HuggingFaceEmbeddings'], vectorstore=<langchain_community.vectorstores.faiss.FAISS object at 0x7f13d6f50280>), document_prompt=PromptTemplate(input_variables=['page_content'], template='{page_content}'), document_separator='\\n\\n'), coroutine=functools.partial(<function _aget_relevant_documents at 0x7f13d45648b0>, retriever=VectorStoreRetriever(tags=['FAISS', 'HuggingFaceEmbeddings'], vectorstore=<langchain_community.vectorstores.faiss.FAISS object at 0x7f13d6f50280>), document_prompt=PromptTemplate(input_variables=['page_content'], template='{page_content}'), document_separator='\\n\\n'))"
      ]
     },
     "execution_count": 76,
     "metadata": {},
     "output_type": "execute_result"
    }
   ],
   "source": [
    "from langchain.tools.retriever import create_retriever_tool\n",
    "retrieval_tool = create_retriever_tool(retriever, ' Mental Health',\n",
    "                      \"Search for the information about mental health from custom dataset\" )\n",
    "retrieval_tool"
   ]
  },
  {
   "cell_type": "code",
   "execution_count": 77,
   "id": "30139e61-6cd6-4356-9cc4-2c536b416949",
   "metadata": {},
   "outputs": [],
   "source": [
    "tools = [wiki_tool, pubmed_tool,youtube_tool,retrieval_tool, arxiv]"
   ]
  },
  {
   "cell_type": "code",
   "execution_count": 99,
   "id": "4e306b2c-2d5b-4a8c-8be7-b7e1f69aea8c",
   "metadata": {},
   "outputs": [],
   "source": [
    "import os\n",
    "from langchain.agents import initialize_agent, Tool\n",
    "from langchain.llms import Cohere\n",
    "\n",
    "# Set the Cohere API key in the environment\n",
    "os.environ[\"COHERE_API_KEY\"] = \"996fB69PNLQjAiH4N2fnmTl4ccii91iz2Xr4mTfE\"\n",
    "\n",
    "# Initialize the Cohere LLM\n",
    "llm = Cohere(model=\"command-xlarge-nightly\")\n",
    "\n",
    "# Define the tools\n",
    "tools = [\n",
    "    Tool(name=\"Wikipedia\", func=wiki_tool.run, description=\"Search information from Wikipedia\"),\n",
    "    Tool(name=\"PubMed\", func=pubmed_tool.run, description=\"Search for scientific papers in PubMed\"),\n",
    "    Tool(name=\"YouTube\", func=youtube_tool.run, description=\"Fetch video information from YouTube\"),\n",
    "    Tool(name=\"Vector Retrieval\", func=retrieval_tool.run, description=\"Retrieve documents from the vector store\"),\n",
    "    Tool(name=\"Arxiv\", func=arxiv.run, description=\"Fetch research papers from Arxiv\")\n",
    "]\n",
    "\n",
    "# Initialize the agent with Cohere LLM\n",
    "agent = initialize_agent(\n",
    "    tools=tools,\n",
    "    llm=llm,\n",
    "    agent_type=\"zero-shot-react-description\",\n",
    ")\n",
    "\n",
    "\n"
   ]
  },
  {
   "cell_type": "code",
   "execution_count": 104,
   "id": "5d12361e-3e0c-43c3-b940-94f71f854f30",
   "metadata": {},
   "outputs": [
    {
     "name": "stdout",
     "output_type": "stream",
     "text": [
      "## Solutions for Overcoming Depression\n",
      "\n",
      "### retrieved from database :\n",
      "selftext: I have started a new sales job a few months ago. And has started triggering my anxiety pretty bad. I exercise and run most days of the week and it is still not helping enough. I have been meditating too and does not seem to help yet either. I have noticed after meditating I am more prone to feel my anxiety physical sensation with tension in head and stomach. It is best to accept these sensations and just keep on meditating. Or is it better to just try to make my self feel courage when I experience anxiety and these feelings? Advice is much appreciated\n",
      "subreddit: Anxiety\n",
      "title: Need Help With Best Way to Deal with My Anxiety\n",
      "Label: Trauma and Stress\n",
      "\n",
      "Has anyone figured out a way to balance not going in about every little thing and making sure you’re being respected and heard?\n",
      "\n",
      "Also, what are some things y’all do to ground yourself during an anxiety or panic attack? Bc the techniques I have ain’t doing a gd thing lbvs\n",
      "subreddit: Anxiety\n",
      "title: Anxiety Tonight\n",
      "Label: Personality\n",
      "\n",
      "That progressed into figuring out how to use it in small doses to control the anxiety in any social environment.  I know how to control my anxiety I know the exact things I need to do what to tell myself when it happens who to call to calm me down.  And the easiest and fastest way.  Alcohol.I appear on the outside like I know what’s going on with me.  I can present myself as a normal human most of the time.  However this is not healthy.  I’m in a place where now I don’t want to engage in these things to “cure” myself . I’m trying hard to focus on what will actually fix me now and that’s why I don’t appear to be falling apart but I am.  Deeply I want to change and I want to be healthy.  I want to be able to care for myself.  So that I can actually function.  Imagine how much better of a person I can become if I don’t have this anxiety hanging over my head.\n",
      "\n",
      "i’m really scared that something will happen to me, or that i’m going crazy. \n",
      "\n",
      "i also had a panic attack while high, but i was completely fine until suddenly everything hit, and boom daily panic attacks. \n",
      "how can i distract myself and take back my life? there’s no big sources like therapy or that much counseling where i live and this is the only place i can think of where people can potions understand what i’m going through\n",
      "subreddit: Anxiety\n",
      "title: does anyone else have this big fear of suddenly losing control of reality?\n",
      "Label: Drug and Alcohol\n",
      "\n",
      "### General Information (Wikipedia):\n",
      "Page: Eating disorder\n",
      "Summary: An eating disorder is a mental disorder defined by abnormal eating behaviors that adversely affect a person's physical or mental health. These behaviors include eating either too much or too little. Types of eating disorders include binge eating disorder, where the patient keeps eating large amounts in a short period of time typically while not being hungry; anorexia nervosa, where the person has an intense fear of gaining weight and restricts food or overexercises\n",
      "\n",
      "### Research Papers (Arxiv):\n",
      "Published: 2023-11-09\n",
      "Title: Exploring and Analyzing the Effect of Avatar's Realism on Anxiety of English as Second Language (ESL) Speakers\n",
      "Authors: Tianqi Liu, Joshua Rafael Sanchez, Yuntao Wang, Xin Yi, Yuanchun Shi\n",
      "Summary: The emergence of virtual avatars provides innovative opportunities for remote\n",
      "conferencing, education, and more. Our study investigates how the realism of\n",
      "avatars, used by native English speakers, impacts the anxiety levels of English\n",
      "as a Second Language (ESL) speakers during interactions. ESL participants\n",
      "engaged in conversations with native English speakers represented through\n",
      "cartoonish avatars, realistic-like avatars, or actual video streams. We\n",
      "measured both the ESL speakers' self-reported anxiety and their physiological\n",
      "indicators of anxiety. Our findings show that interactions with native speakers\n",
      "using cartoonish avatars or direct video lead to reduced anxiety levels among\n",
      "ESL participants. However, interactions with avatars that closely resemble\n",
      "humans heightened these anxieties. These insights are critically important for\n",
      "the design and application of virtual avatars, especially in addressing\n",
      "cross-cultural communication barriers and enhancing user experience.\n",
      "\n",
      "Published: 2024-07-08\n",
      "Title: Bounded confidence modeling predicts how group work affects student math anxiety\n",
      "Authors: Katherine Toms, Maya Williams, Matthew S. Mizuhara\n",
      "Summary: Math anxiety is ubiquitous. It not only affects student performance and\n",
      "confidence, but also can lead to avoidance of further math/STEM classes and\n",
      "careers. Cooperative learning (i.e., group work) is a proven strategy that can\n",
      "reduce math anxiety and has additional social and pedagogical benefits.\n",
      "However, depending on the individuals involved, some peer interactions may\n",
      "mitigate anxiety while others exacerbate it. Mathematical modeling is one\n",
      "approach to help untangle this complex dynamic. In this work we introduce a\n",
      "bounded confidence model to evaluate how math anxiety levels are affected by\n",
      "student group work. Although the model is quite simple, it captures non-obvious\n",
      "phenomena including how varying group sizes and frequency of switching groups\n",
      "can affect anxiety levels. The model is easily adaptable to incorporate\n",
      "additional personal and societal factors making it ripe for future research.\n",
      "\n",
      "Published: 2021-04-20\n",
      "Title: Development of digitally obtainable 10-year risk scores for depression and anxiety in the general population\n",
      "Authors: D. Morelli, N. Dolezalova, S. Ponzo, M. Colombo, D. Plans\n",
      "Summary: The burden of depression and anxiety in the world is rising. Identification\n",
      "of individuals at increased risk of developing these conditions would help to\n",
      "target them for prevention and ultimately reduce the healthcare burden. We\n",
      "developed a 10-year predictive algorithm for depression and anxiety using the\n",
      "full cohort of over 400,000 UK Biobank (UKB) participants without pre-existing\n",
      "depression or anxiety using digitally obtainable information. From the initial\n",
      "204 variables selected from UKB, processed into > 520 features, iterative\n",
      "backward elimination using Cox proportional hazards model was performed to\n",
      "select predictors which account for the majority of its predictive capability.\n",
      "Baseline and reduced models were then trained for depression and anxiety using\n",
      "both Cox and DeepSurv, a deep neural network approach to survival analysis. The\n",
      "baseline Cox model achieved concordance of 0.813 and 0.778 on the validation\n",
      "dataset for depression and anxiety, respectively. For the DeepSurv model,\n",
      "respective concordance indices were 0.805 and 0.774. After feature selection,\n",
      "the depression model contained 43 predictors and the concordance index was\n",
      "0.801 for both Cox and DeepSurv. The reduced anxiety model, with 27 predictors,\n",
      "achieved concordance of 0.770 in both models. The final models showed good\n",
      "discrimination and calibration in the test datasets.We developed predictive\n",
      "risk scores with high discrimination for depression and anxiety using the UKB\n",
      "cohort, incorporati\n",
      "\n",
      "### Exercise Videos (YouTube):\n",
      "['https://www.youtube.com/watch?v=1XCObQjSHIs&pp=ygU-SG93IHRvIG92ZXJjb21lIGFueGlldHkgYW5kIGdpdmUgc29tZSB0aXBzIGFuZCBleGVyY2lzZSB2aWRlbyA%3D', 'https://www.youtube.com/watch?v=4QHGYTP5HsE&pp=ygU-SG93IHRvIG92ZXJjb21lIGFueGlldHkgYW5kIGdpdmUgc29tZSB0aXBzIGFuZCBleGVyY2lzZSB2aWRlbyA%3D']\n",
      "\n",
      "\n"
     ]
    }
   ],
   "source": [
    "def format_response(wiki_data, pubmed_data, arxiv_data, youtube_data):\n",
    "    response = f\"## Solutions for Overcoming Depression\\n\\n\"\n",
    "\n",
    "    #Retrieval data \n",
    "    response += f\"### retrieved from database :\\n{retrieval_data}\\n\\n\"\n",
    "    \n",
    "    # Wikipedia data\n",
    "    response += f\"### General Information (Wikipedia):\\n{wiki_data}\\n\\n\"\n",
    "    \n",
    "    # Arxiv papers\n",
    "    response += f\"### Research Papers (Arxiv):\\n{arxiv_data}\\n\\n\"\n",
    "    \n",
    "    # YouTube videos\n",
    "    response += f\"### Exercise Videos (YouTube):\\n{youtube_data}\\n\\n\"\n",
    "    \n",
    "    return response\n",
    "\n",
    "query = \"How to overcome anxiety and give some tips and exercise video \"\n",
    "\n",
    "# Fetch data from all tools and format the final output\n",
    "retrieval_data = retrieval_tool.run(query)\n",
    "wiki_data = wiki_tool.run(query)\n",
    "pubmed_data = pubmed_tool.run(query)\n",
    "arxiv_data = arxiv.run(query)\n",
    "youtube_data = youtube_tool.run(query)\n",
    "\n",
    "\n",
    "\n",
    "# Format the final response\n",
    "formatted_response = format_response(wiki_data, pubmed_data, arxiv_data, youtube_data)\n",
    "print(formatted_response)\n"
   ]
  },
  {
   "cell_type": "code",
   "execution_count": null,
   "id": "392b8701-9cd0-4f5e-9554-46eacfe0e9bb",
   "metadata": {},
   "outputs": [],
   "source": []
  },
  {
   "cell_type": "code",
   "execution_count": null,
   "id": "8223d23d-cc32-4587-bafc-ac63a1206e73",
   "metadata": {},
   "outputs": [],
   "source": [
    "\n"
   ]
  }
 ],
 "metadata": {
  "kernelspec": {
   "display_name": "Python 3 (ipykernel)",
   "language": "python",
   "name": "python3"
  },
  "language_info": {
   "codemirror_mode": {
    "name": "ipython",
    "version": 3
   },
   "file_extension": ".py",
   "mimetype": "text/x-python",
   "name": "python",
   "nbconvert_exporter": "python",
   "pygments_lexer": "ipython3",
   "version": "3.10.13"
  }
 },
 "nbformat": 4,
 "nbformat_minor": 5
}
